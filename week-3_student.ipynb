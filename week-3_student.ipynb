{
 "cells": [
  {
   "cell_type": "code",
   "execution_count": null,
   "metadata": {},
   "outputs": [],
   "source": [
    "import pandas as pd\n",
    "import matplotlib\n",
    "from pandas import DataFrame\n",
    "import matplotlib.pyplot as plt\n",
    "from matplotlib.ticker import FuncFormatter"
   ]
  },
  {
   "cell_type": "markdown",
   "metadata": {},
   "source": [
    "# Import our data! "
   ]
  },
  {
   "cell_type": "markdown",
   "metadata": {},
   "source": [
    "link to our data \n",
    "[kaggle](https://www.kaggle.com/datasets/kemical/kickstarter-projects?select=ks-projects-201801.csv)"
   ]
  },
  {
   "cell_type": "code",
   "execution_count": null,
   "metadata": {},
   "outputs": [],
   "source": [
    "kick_starter = pd.read_csv('ks-projects-201801.csv')"
   ]
  },
  {
   "cell_type": "markdown",
   "metadata": {},
   "source": [
    "Displaying the first and last rows to get an idea of what the data looks like. "
   ]
  },
  {
   "cell_type": "code",
   "execution_count": null,
   "metadata": {},
   "outputs": [],
   "source": [
    "kick_starter.head(2)"
   ]
  },
  {
   "cell_type": "code",
   "execution_count": null,
   "metadata": {},
   "outputs": [],
   "source": [
    "kick_starter.tail(2)"
   ]
  },
  {
   "cell_type": "code",
   "execution_count": null,
   "metadata": {},
   "outputs": [],
   "source": [
    "# Displaying the size and data types of our data\n",
    "df_shape = kick_starter.shape\n",
    "print(f'The DataFrame has {df_shape[0]} rows and {df_shape[1]} columns! \\n')\n",
    "print(kick_starter.info())"
   ]
  },
  {
   "cell_type": "code",
   "execution_count": null,
   "metadata": {},
   "outputs": [],
   "source": [
    "# checking to see if any values are null in data \n",
    "print(kick_starter.isnull().any().any())"
   ]
  },
  {
   "cell_type": "code",
   "execution_count": null,
   "metadata": {},
   "outputs": [],
   "source": [
    "# Getting a count of null values in each column  \n",
    "kick_starter.isnull().sum()"
   ]
  },
  {
   "cell_type": "code",
   "execution_count": null,
   "metadata": {},
   "outputs": [],
   "source": [
    "# getting column names\n",
    "kick_starter.columns"
   ]
  },
  {
   "cell_type": "code",
   "execution_count": null,
   "metadata": {},
   "outputs": [],
   "source": [
    "# Getting an idea of what the data looks like\n",
    "kick_starter['state'].value_counts()"
   ]
  },
  {
   "cell_type": "code",
   "execution_count": null,
   "metadata": {},
   "outputs": [],
   "source": [
    "pd.options.display.float_format = '{:,.2f}'.format\n",
    "kick_starter.describe()"
   ]
  },
  {
   "cell_type": "markdown",
   "metadata": {},
   "source": [
    "---"
   ]
  },
  {
   "cell_type": "markdown",
   "metadata": {},
   "source": [
    "#### Below is our code we used used to do come cleaning. Lets clean it up by putting it in a function. \n",
    "\n",
    "**Instructions:** \n",
    "- Put the code into the Function we defined `clean_ks`\n",
    "- Make user you indent your code inside the function \n",
    "- Add a return statement `return kick_kickstarter` \n",
    "- Be sure to have the comments so we know what the function does. \n",
    "\n",
    "Put the below into a function:"
   ]
  },
  {
   "cell_type": "markdown",
   "metadata": {},
   "source": [
    "```python\n",
    "# Clean column names\n",
    "kick_starter.columns = kick_starter.columns.str.title()\n",
    "kick_starter.columns = kick_starter.columns.str.strip().str.replace('_', ' ')\n",
    "\n",
    "# Drop unnecessary columns\n",
    "cols_to_drop = ['Id', 'Deadline', 'Launched']\n",
    "kick_starter = kick_starter.drop(columns=cols_to_drop)\n",
    "\n",
    "# Drop rows with missing values\n",
    "kick_starter = kick_starter.dropna()\n",
    "```"
   ]
  },
  {
   "cell_type": "code",
   "execution_count": null,
   "metadata": {},
   "outputs": [],
   "source": [
    "# def clean_ks(kick_starter) -> pd.DataFrame:\n",
    "  # your code here"
   ]
  },
  {
   "cell_type": "code",
   "execution_count": null,
   "metadata": {},
   "outputs": [],
   "source": [
    "# calling our function to clean our data\n",
    "kick_starter_cleaned = clean_ks(kick_starter)\n",
    "kick_starter_cleaned.head()\n",
    "# remember we want to call the kick_starter_cleaned dataframe rather than kick_starter\n",
    "# kick_starter will not be cleaned only kick_starter_cleaned is. "
   ]
  },
  {
   "cell_type": "markdown",
   "metadata": {},
   "source": [
    "### Notes from above \n",
    "\n",
    "A few notes on the function as we introduced a couple new concepts.  \n",
    "When you look at at the predefined function I added the weird arrow. This is called type hinting. This is a super helpful thing to add to functions.  \n",
    "\n",
    "### What is Type Hinting in Python?\n",
    "Type hinting is a feature in Python that allows you to specify the expected data types of variables, function parameters, and return values. It is a way to make your code more explicit, readable, and self-documenting by indicating what types of data the code works with.\n",
    "\n",
    "Python is a dynamically typed language, meaning you don't have to declare variable types explicitly. However, type hinting provides a way to statically annotate the code with type information, helping both humans and tools (like linters and IDEs) understand the intended usage.\n",
    "\n",
    "\n",
    "### What Type Hinting Does\n",
    "Improves Code Readability:\n",
    "\n",
    "- Type hints show other developers (or your future self) the types of data your code expects and produces.\n",
    "\n",
    "Example:\n",
    "\n",
    "```python\n",
    "def add_numbers(a: int, b: int) -> int:\n",
    "    return a + b\n",
    "```\n",
    "\n",
    "- This makes it clear that `a` and `b` should be integers and that the function returns an integer.\n",
    "\n",
    "**Assists with Debugging:**\n",
    "\n",
    "- Type hints can catch errors before running the code. Tools like mypy can check your type hints and flag mismatched types.\n",
    "\n",
    "**Enhances IDE Support:**\n",
    "\n",
    "- IDEs like PyCharm or VSCode can provide better autocomplete suggestions, detect potential type errors, and offer contextual help based on type annotations.\n",
    "\n",
    "**Documents Your Code Automatically:**\n",
    "\n",
    "- Type hints serve as inline documentation, reducing the need for extra comments about the data types.\n",
    "\n",
    "Example:\n",
    "```python\n",
    "def greet(name: str) -> str:\n",
    "    return f\"Hello, {name}!\"\n",
    "```\n",
    "\n",
    "Without type hints, you'd need comments to describe name and the return value.\n",
    "\n",
    "**Does Not Affect Runtime:**\n",
    "\n",
    "Type hints do not enforce or change the behavior of your code at runtime. They are purely for developers and static analysis tools. Ultimately it allows us to know how to use the code easier down the road."
   ]
  },
  {
   "cell_type": "markdown",
   "metadata": {},
   "source": [
    "## Docstring comments\n",
    "\n",
    "- Docstring comments are multi-line strings enclosed in triple quotes (\"\"\" \"\"\")\n",
    "- They are placed at the beginning of a function to describe its purpose, behavior, and usage. - - They serve as the official documentation for the code and typically include details about what the function does, its parameters (name, type, and purpose), return values, and sometimes examples or additional notes. \n",
    "- Docstrings improve code readability, help developers understand the codebase, and can be accessed programmatically using tools like help() or __doc__. \n",
    "- They follow specific conventions, such as those outlined in PEP 257."
   ]
  },
  {
   "cell_type": "markdown",
   "metadata": {},
   "source": [
    "```python\n",
    "def clean_ks(kick_starter) -> pd.DataFrame:\n",
    "    \"\"\"\n",
    "    Cleans and processes the Kickstarter DataFrame.\n",
    "\n",
    "    This function performs the following operations on the input DataFrame:\n",
    "    1. Cleans column names (capitalizes and removes underscores).\n",
    "    2. Drops unnecessary columns ('Id', 'Deadline', 'Launched').\n",
    "    3. Removes rows with missing values.\n",
    "\n",
    "    Parameters:\n",
    "        kick_starter (pandas.DataFrame): The input Kickstarter dataset.\n",
    "\n",
    "    Returns:\n",
    "        pandas.DataFrame: The cleaned and processed DataFrame.\n",
    "\n",
    "    Example:\n",
    "        >>> clean_kick_starter = clean_ks(kick_starter)\n",
    "    \"\"\"\n",
    "\n",
    "```"
   ]
  },
  {
   "cell_type": "markdown",
   "metadata": {},
   "source": [
    "# Filtering our data "
   ]
  },
  {
   "cell_type": "markdown",
   "metadata": {},
   "source": [
    "Previously we had our code\n",
    "```python\n",
    "kick_starter = kick_starter[kick_starter['Country'] == 'US']\n",
    "```\n",
    "We are going to convert this into a function so we dynamically change the country incase we will to look at other countries in the project. "
   ]
  },
  {
   "cell_type": "code",
   "execution_count": null,
   "metadata": {},
   "outputs": [],
   "source": [
    "def filter_by_country(kick_starter: DataFrame, country: str) -> DataFrame:\n",
    "    \"\"\"\n",
    "    Filters the Kickstarter dataset to include only rows for a specific country.\n",
    "\n",
    "    Parameters:\n",
    "        kick_starter (pandas.DataFrame): The Kickstarter dataset containing a 'Country' column.\n",
    "        country (str): The country to filter the dataset by.\n",
    "\n",
    "    Returns:\n",
    "        pandas.DataFrame: A filtered DataFrame containing only rows where the 'Country' column matches the specified country.\n",
    "    \"\"\"\n",
    "    return kick_starter[kick_starter['Country'] == country]"
   ]
  },
  {
   "cell_type": "code",
   "execution_count": null,
   "metadata": {},
   "outputs": [],
   "source": [
    "kick_starter_filtered = filter_by_country(kick_starter_cleaned, \"US\")\n",
    "kick_starter_filtered.head(1)\n",
    "# moving forward we will want to use kick_starter_filtered \n",
    "# it will be the only one that is cleaned and filtered"
   ]
  },
  {
   "cell_type": "markdown",
   "metadata": {},
   "source": [
    "- Call the function to filter to 'GB'\n",
    "- Be sure to assign this to a **new** variable. "
   ]
  },
  {
   "cell_type": "code",
   "execution_count": null,
   "metadata": {},
   "outputs": [],
   "source": [
    "# your code here"
   ]
  },
  {
   "cell_type": "markdown",
   "metadata": {},
   "source": [
    "This is a lot of extra work for code we probably won't reuse and doesn't make sence to be in a function. I wanted to put everything together from above to get you used to seeing it.  "
   ]
  },
  {
   "cell_type": "code",
   "execution_count": null,
   "metadata": {},
   "outputs": [],
   "source": [
    "def summarize_backers(kick_starter: DataFrame) -> str:\n",
    "    \"\"\"\n",
    "    Calculates and summarizes the total, mean, and median number of backers \n",
    "    from a Kickstarter dataset.\n",
    "\n",
    "    Parameters:\n",
    "        kick_starter (pandas.DataFrame): The Kickstarter dataset containing a \n",
    "                                         'Backers' column.\n",
    "\n",
    "    Returns:\n",
    "        str: A formatted string summarizing the total, mean (rounded to 2 decimal places),\n",
    "             and median number of backers.\n",
    "    \"\"\"\n",
    "    # Calculate total, mean, and median backers\n",
    "    backer_sum = kick_starter['Backers'].sum()\n",
    "    backer_mean = kick_starter['Backers'].mean().round(2)\n",
    "    backer_median = kick_starter['Backers'].median()\n",
    "\n",
    "    # Return a formatted string\n",
    "    return (f\"The total number of backers is {backer_sum}.\\n\"\n",
    "            f\"The mean number of backers is {backer_mean}.\\n\"\n",
    "            f\"The median number of backers is {backer_median}.\")\n"
   ]
  },
  {
   "cell_type": "code",
   "execution_count": null,
   "metadata": {},
   "outputs": [],
   "source": [
    "# Calling the function from above and printing it.  \n",
    "summary = summarize_backers(kick_starter)\n",
    "print(summary)"
   ]
  },
  {
   "cell_type": "markdown",
   "metadata": {},
   "source": [
    "# Convert the below to a function using what we have learned above! \n",
    "\n",
    "- call the function `category_backers_summary`"
   ]
  },
  {
   "cell_type": "code",
   "execution_count": null,
   "metadata": {},
   "outputs": [],
   "source": [
    "# Group by Category and sum the backers\n",
    "category_backers = kick_starter.groupby('Category')['Backers'].sum().reset_index()\n",
    "\n",
    "\n",
    "# Find the category with the most backers\n",
    "most_backers_category = category_backers.idxmax()\n",
    "most_backers = category_backers.max()\n",
    "\n",
    "# Sorting the vales \n",
    "category_backers = category_backers.sort_values(by='Backers', ascending=False)\n"
   ]
  },
  {
   "cell_type": "markdown",
   "metadata": {},
   "source": [
    "---"
   ]
  },
  {
   "cell_type": "markdown",
   "metadata": {},
   "source": [
    "# Plotting!"
   ]
  },
  {
   "cell_type": "markdown",
   "metadata": {},
   "source": [
    "We are going to use the function to look at the last 10 categories by backer count. \n",
    "- Lets assume we are tasked with finding if launching a quilting kickstarter is a good idea\n",
    "- Looking at the data do you thing this would be a good idea? \n",
    "- We will deliver a plot and a chart to mgmt to show them our findings. "
   ]
  },
  {
   "cell_type": "code",
   "execution_count": null,
   "metadata": {},
   "outputs": [],
   "source": [
    "# Call our function and be sure to use kick_starter_filtered to call it. \n",
    "category_backers_summary = category_backers_summary(kick_starter_filtered)\n",
    "\n"
   ]
  },
  {
   "cell_type": "code",
   "execution_count": null,
   "metadata": {},
   "outputs": [],
   "source": [
    "# category_backers_summary.tail(10)\n",
    "category_backers_summary.tail(10)"
   ]
  },
  {
   "cell_type": "markdown",
   "metadata": {},
   "source": [
    "### Our first plot\n",
    "\n",
    "**Instructions**\n",
    "\n",
    "**Understand the Problem:**\n",
    "- You want to visualize the bottom 10 categories (based on backers) in a bar chart.\n",
    "\n",
    "**Step-by-Step Guide:**\n",
    "- Access the Last 10 Rows: Use the .tail() method to get the last 10 rows of the category_backers_summary DataFrame.\n",
    "- Assign this to the variable `cat_tail`\n",
    "- Now that we have the variable `cat_tail` lets plot it!\n",
    "- We will do a simple plot and build upon it \n",
    "- Plot a Bar Chart: Use the `.plot.bar()` method on cat_tail to create a bar chart.\n",
    "\n",
    "Tip: By default, the bar chart will use the DataFrame's index as the x-axis and numeric columns as the y-axis. Make sure the index is meaningful for this plot.\n"
   ]
  },
  {
   "cell_type": "code",
   "execution_count": null,
   "metadata": {},
   "outputs": [],
   "source": [
    "cat_tail = category_backers_summary.tail(10)\n",
    "\n",
    "# your code here "
   ]
  },
  {
   "cell_type": "markdown",
   "metadata": {},
   "source": [
    "^ This is not a great plot but we get a quick look at what it's going to look like. This is great when exploring our data and we want to see the data differently. \n",
    "\n"
   ]
  },
  {
   "cell_type": "markdown",
   "metadata": {},
   "source": [
    "Lets adjust the plot to make it better to look at for a viewer. \n",
    "\n",
    "We will adjust the above code and add more parameters to the `.plot()` method.\n",
    "- we will use `kind=` to pick the type of plot to use \n",
    "- `x=` will define what our x axis is \n",
    "- `y=` will define what the y axis is\n",
    "- `rot=` will rotate our x labels \n",
    "- `color=` will be the color our plot\n",
    "- `figsize=` is the size in inches of the plot \n",
    "- `.set()` we will use after `.plot()`\n",
    "- `xlabel=` will set our x axis label \n",
    "- `ylabel=` will set our y axis label "
   ]
  },
  {
   "cell_type": "markdown",
   "metadata": {},
   "source": [
    "### 1. Adjusting .plot() Arguments\n",
    "- kind=\n",
    "    - Choose the type of plot. For a bar plot, set it to 'bar'.\n",
    "\n",
    "- x=\n",
    "    - Specify the column for the x-axis. Use the column name that contains the categories (e.g., 'Category').\n",
    "\n",
    "- y=\n",
    "    - Specify the column for the y-axis. Use the column name that contains numerical values (e.g., 'Backers').\n",
    "\n",
    "- rot=\n",
    "    - Rotate the x-axis labels for better readability. For vertically oriented labels, set rot=90.\n",
    "\n",
    "- color=\n",
    "    - Choose the color of the bars. Use a color name like 'skyblue' or a hex code (e.g., '#87CEEB').\n",
    "\n",
    "- figsize=\n",
    "    - Define the plot size in inches (width, height). A common size for a clear bar plot is (10, 6).\n",
    "\n",
    "### 2. Adjusting .set() Arguments\n",
    "- xlabel=\n",
    "    - Set the label for the x-axis. Use a descriptive name like 'Category'.\n",
    "\n",
    "- ylabel=\n",
    "    - Set the label for the y-axis. Use a descriptive name like 'Number of Backers'.\n",
    "\n"
   ]
  },
  {
   "cell_type": "code",
   "execution_count": null,
   "metadata": {},
   "outputs": [],
   "source": [
    "cat_tail.plot(\n",
    "    kind='', \n",
    "    x='', \n",
    "    y='', \n",
    "    rot=, \n",
    "    color='', \n",
    "    figsize=(,)\n",
    ").set(\n",
    "    xlabel='', \n",
    "    ylabel=''\n",
    ")\n",
    "plt.tight_layout()  # Adjust layout to avoid overlapping labels\n",
    "plt.show()          # Display the plot"
   ]
  },
  {
   "cell_type": "markdown",
   "metadata": {},
   "source": [
    "The Below plot Will clearly answer our question from above. \n",
    "\n",
    "- Lets assume we are tasked with finding if launching a quilting kickstarter is a good idea\n",
    "- Looking at the data do you thing this would be a good idea? \n",
    "- We will deliver a plot and a chart to mgmt to show them our findings. \n",
    "\n",
    "We have the option to toggle the plot save in the code to same the image and we have the code to save the chart as well. \n"
   ]
  },
  {
   "cell_type": "code",
   "execution_count": null,
   "metadata": {},
   "outputs": [],
   "source": [
    "categories = cat_tail['Category']\n",
    "colors = ['lightgrey' if category != 'Quilts' else 'skyblue' for category in categories]\n",
    "cat_tail.plot(kind='bar', x='Category', y='Backers', rot=90, color=colors, figsize=(10,6))\n",
    "\n",
    "# Add title and axis labels\n",
    "plt.title('Bottom 10 Kickstarter Categories by Backers')\n",
    "plt.xlabel('Category')\n",
    "plt.ylabel('Number of Backers')\n",
    "\n",
    "# Add gridlines for better readability\n",
    "plt.grid(True, which='both', axis='y', linestyle='--', linewidth=0.7)\n",
    "\n",
    "# Show the plot\n",
    "plt.tight_layout()\n",
    "# plt.savefig('quilting.jpg') # optional to save the plot\n",
    "plt.show()\n",
    "\n",
    "# saves chart\n",
    "# cat_tail.to_csv('chart.csv', index=False)\n"
   ]
  },
  {
   "cell_type": "markdown",
   "metadata": {},
   "source": [
    "### Instructions for Plotting with Matplotlib\n",
    "**Create the Plot:**\n",
    "\n",
    "- Use plt.bar() to create the bar plot.  \n",
    "Specify the x-axis values (categories) and y-axis values (number of backers) that will be used for the plot.\n",
    "Customize the Plot:\n",
    "\n",
    "- Set the figure size using plt.figure(figsize=(width, height)).\n",
    "Rotate the x-axis labels for better readability with plt.xticks(rotation=90).\n",
    "Add a Title and Labels:\n",
    "\n",
    "- Use plt.title() to add a title to the plot.\n",
    "- Use plt.xlabel() to label the x-axis.\n",
    "- Use plt.ylabel() to label the y-axis.\n",
    "- Optional: Add Gridlines:\n",
    "\n",
    "- Use plt.grid() to add gridlines to the plot for easier reading. You can customize the gridlines by specifying the axis, style, and width.\n",
    "Adjust Layout:\n",
    "\n",
    "- Ensure the plot looks nice and tidy by using plt.tight_layout() to prevent overlap of labels or titles.\n",
    "- Show the Plot:\n",
    "\n",
    "- Use plt.show() to display the plot."
   ]
  },
  {
   "cell_type": "code",
   "execution_count": null,
   "metadata": {},
   "outputs": [],
   "source": [
    "# Step 1: Extract Data\n",
    "# Replace these with your actual DataFrame columns\n",
    "categories = # Enter the category column (e.g., cat_tail['Category'])\n",
    "backers = # Enter the backer column (e.g., cat_tail['Backers'])\n",
    "\n",
    "# Step 2: Create the Plot\n",
    "plt.figure(figsize=(10, 6))  # Set figure size\n",
    "plt.bar(categories, backers, color='skyblue')  # Create a bar plot\n",
    "\n",
    "# Step 3: Rotate x-axis labels\n",
    "plt.xticks(rotation=90)\n",
    "\n",
    "# Step 4: Add Title and Labels\n",
    "plt.title('Bottom 10 Kickstarter Categories by Backers')  # Title of the plot\n",
    "plt.xlabel('Category')  # Label for x-axis\n",
    "plt.ylabel('Number of Backers')  # Label for y-axis\n",
    "\n",
    "# Step 5: Optional - Add Gridlines\n",
    "# Uncomment the following line if you want to add gridlines\n",
    "# plt.grid(True, which='both', axis='y', linestyle='--', linewidth=0.7)\n",
    "\n",
    "# Step 6: Adjust Layout\n",
    "plt.tight_layout()  # Adjust layout to avoid overlap\n",
    "\n",
    "# Step 7: Show the Plot\n",
    "plt.show()\n"
   ]
  },
  {
   "cell_type": "markdown",
   "metadata": {},
   "source": [
    "# Make your own plots here\n",
    "\n",
    "- Take the prior code we have and alter the plot to see what different arguments do \n",
    "- Make a new plot of something from the data "
   ]
  },
  {
   "cell_type": "code",
   "execution_count": null,
   "metadata": {},
   "outputs": [],
   "source": []
  },
  {
   "cell_type": "code",
   "execution_count": null,
   "metadata": {},
   "outputs": [],
   "source": []
  },
  {
   "cell_type": "markdown",
   "metadata": {},
   "source": [
    "# reference code"
   ]
  },
  {
   "cell_type": "code",
   "execution_count": null,
   "metadata": {},
   "outputs": [],
   "source": [
    "# Filter the DataFrame for successful projects\n",
    "filtered_data = kick_starter[kick_starter['State'] == 'successful']\n",
    "\n",
    "# Group by Category and State and sum the specified columns\n",
    "top_ten_cats = filtered_data.groupby(['Category', 'State'])[['Backers', 'Usd Pledged Real']].sum().reset_index()\n",
    "\n",
    "# Sort the entire DataFrame by 'Usd Pledged Real' in descending order\n",
    "top_ten_cats = top_ten_cats.sort_values(by='Usd Pledged Real', ascending=False)\n",
    "\n",
    "top_ten_cats.head()\n"
   ]
  },
  {
   "cell_type": "code",
   "execution_count": null,
   "metadata": {},
   "outputs": [],
   "source": [
    "# 1. Top 10 Categories by Total Pledged Amount\n",
    "plt.figure(figsize=(10, 6))\n",
    "top_pledged = top_ten_cats.groupby('Category')['Usd Pledged Real'].sum().nlargest(10)\n",
    "\n",
    "# Highlight the highest value in blue, others in light grey\n",
    "colors = ['blue' if i == 0 else 'lightgrey' for i in range(len(top_pledged))]\n",
    "\n",
    "plt.bar(top_pledged.index, top_pledged.values, color=colors)\n",
    "\n",
    "# Add value only on the blue bar (the highest one)\n",
    "plt.text(0, top_pledged.values[0], f'{top_pledged.values[0]:,.0f}', \n",
    "         ha='center', va='bottom', fontsize=12, color='black')\n",
    "\n",
    "# Formatting for x-axis labels and title\n",
    "plt.xticks(rotation=45, ha='right')\n",
    "plt.title('Top 10 Categories by Total Pledged Amount')\n",
    "plt.xlabel('Category')\n",
    "plt.ylabel('Total Pledged Amount (USD)')\n",
    "\n",
    "# Add comma formatting for y-axis\n",
    "plt.gca().yaxis.set_major_formatter(FuncFormatter(lambda x, _: f'{x:,.0f}'))\n",
    "plt.tight_layout()\n",
    "plt.show()\n",
    "\n",
    "# 2. Top 10 Categories by Number of Backers\n",
    "plt.figure(figsize=(10, 6))\n",
    "top_backers = top_ten_cats.groupby('Category')['Backers'].sum().nlargest(10)\n",
    "\n",
    "# Highlight the highest value in blue, others in light grey\n",
    "colors = ['blue' if i == 0 else 'lightgrey' for i in range(len(top_backers))]\n",
    "\n",
    "plt.bar(top_backers.index, top_backers.values, color=colors)\n",
    "\n",
    "# Add value only on the blue bar (the highest one)\n",
    "plt.text(0, top_backers.values[0], f'{top_backers.values[0]:,.0f}', \n",
    "         ha='center', va='bottom', fontsize=12, color='black')\n",
    "\n",
    "# Formatting for x-axis labels and title\n",
    "plt.xticks(rotation=45, ha='right')\n",
    "plt.title('Top 10 Categories by Number of Backers')\n",
    "plt.xlabel('Category')\n",
    "plt.ylabel('Number of Backers')\n",
    "\n",
    "# Add comma formatting for y-axis\n",
    "plt.gca().yaxis.set_major_formatter(FuncFormatter(lambda x, _: f'{x:,.0f}'))\n",
    "plt.tight_layout()\n",
    "plt.show()\n"
   ]
  }
 ],
 "metadata": {
  "kernelspec": {
   "display_name": ".venv",
   "language": "python",
   "name": "python3"
  },
  "language_info": {
   "codemirror_mode": {
    "name": "ipython",
    "version": 3
   },
   "file_extension": ".py",
   "mimetype": "text/x-python",
   "name": "python",
   "nbconvert_exporter": "python",
   "pygments_lexer": "ipython3",
   "version": "3.12.2"
  }
 },
 "nbformat": 4,
 "nbformat_minor": 2
}
