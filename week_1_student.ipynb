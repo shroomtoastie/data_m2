{
 "cells": [
  {
   "cell_type": "code",
   "execution_count": null,
   "metadata": {},
   "outputs": [],
   "source": [
    "\n",
    "\n",
    "\n",
    "\n",
    "import pandas as pd\n",
    "import matplotlib"
   ]
  },
  {
   "cell_type": "markdown",
   "metadata": {},
   "source": [
    "# Import our data! "
   ]
  },
  {
   "cell_type": "markdown",
   "metadata": {},
   "source": [
    "link to our data \n",
    "[kaggle](https://www.kaggle.com/datasets/kemical/kickstarter-projects?select=ks-projects-201801.csv)"
   ]
  },
  {
   "cell_type": "markdown",
   "metadata": {},
   "source": [
    "##### **Your Task**\n",
    "- Load the dataset into a variable called kick_starter.\n",
    "- Think about why you’re naming the variable this way. Could someone else easily understand the purpose of this variable just by reading its name?\n",
    "- hint: pandas read csv"
   ]
  },
  {
   "cell_type": "code",
   "execution_count": null,
   "metadata": {},
   "outputs": [],
   "source": [
    "# your code here"
   ]
  },
  {
   "cell_type": "markdown",
   "metadata": {},
   "source": [
    "#### **Why This Is Important**\n",
    "**Good Variable Names:**\n",
    "\n",
    "- The variable name kick_starter is clear and descriptive. It tells us exactly what the data represents—Kickstarter projects.\n",
    "- Choosing meaningful names for variables makes your code easier to read and understand, both for you and others who might use or review your work later. Avoid generic names like df or data when you can be more specific.\n",
    "\n",
    "**Consistency:**\n",
    "\n",
    "- Maintaining good naming practices throughout your code reduces the chances of confusion or errors. Imagine working with multiple datasets; clear names will help you keep everything organized."
   ]
  },
  {
   "cell_type": "markdown",
   "metadata": {},
   "source": [
    "## Print the dataframe"
   ]
  },
  {
   "cell_type": "code",
   "execution_count": null,
   "metadata": {},
   "outputs": [],
   "source": [
    "# your code here"
   ]
  },
  {
   "cell_type": "markdown",
   "metadata": {},
   "source": [
    "Print the dataframe just using just the variable name. "
   ]
  },
  {
   "cell_type": "code",
   "execution_count": null,
   "metadata": {},
   "outputs": [],
   "source": [
    "# your code here"
   ]
  },
  {
   "cell_type": "markdown",
   "metadata": {},
   "source": [
    "#### **When to Use Each**\n",
    "Use print(kick_starter):\n",
    "\n",
    "- When running scripts outside of Jupyter notebooks.\n",
    "- When debugging or wanting to ensure specific text output.\n",
    "\n",
    "Use kick_starter (in Jupyter Notebooks):\n",
    "\n",
    "- To display data in an interactive, well-formatted way.\n",
    "- To view a quick overview of the DataFrame structure without overwhelming the output."
   ]
  },
  {
   "cell_type": "markdown",
   "metadata": {},
   "source": [
    "#### Instructions: Exploring the First and Last Rows of Your Data\n",
    "Now that your dataset is loaded into `kick_starter`, it's time to explore the structure of the data. A great way to start is by looking at the first few rows and the last few rows of the DataFrame."
   ]
  },
  {
   "cell_type": "markdown",
   "metadata": {},
   "source": [
    "What to Do:\n",
    "- Write a line of code to display the first rows of the DataFrame.\n",
    "- By default, this method shows the first 5 rows, but you can also specify a number as a parameter to see more (e.g., the first 10 rows). Experiment with different numbers!\n",
    "- *hint* we are looking at the `head` of the dataframe "
   ]
  },
  {
   "cell_type": "code",
   "execution_count": null,
   "metadata": {},
   "outputs": [],
   "source": [
    "# your code here"
   ]
  },
  {
   "cell_type": "markdown",
   "metadata": {},
   "source": [
    "Write another line of code to display the last rows of the DataFrame.\n",
    "- Similarly, try adding a parameter to see more rows from the end of the DataFrame.\n",
    "- Experiment with different numbers here too! "
   ]
  },
  {
   "cell_type": "code",
   "execution_count": null,
   "metadata": {},
   "outputs": [],
   "source": [
    "# your code here"
   ]
  },
  {
   "cell_type": "markdown",
   "metadata": {},
   "source": [
    "Why Is This Important?\n",
    "- Looking at the first rows helps you understand the structure of the dataset, including the column names and the types of data.\n",
    "- Reviewing the last rows lets you check for anything unusual at the end of the dataset, like incomplete or missing data.\n",
    "- Using parameters gives you flexibility to see as many rows as you need."
   ]
  },
  {
   "cell_type": "markdown",
   "metadata": {},
   "source": [
    "---"
   ]
  },
  {
   "cell_type": "markdown",
   "metadata": {},
   "source": [
    "#### **Instructions: Checking the Dimensions of Your DataFrame**\n",
    "To better understand your dataset, it's important to know how many rows and columns it has. This can be done with a single line of code that gives you the shape of the DataFrame."
   ]
  },
  {
   "cell_type": "markdown",
   "metadata": {},
   "source": [
    "What to Do:\n",
    "Write a line of code that outputs the dimensions of the DataFrame.\n",
    "- The result will tell you how many rows and columns are in the dataset.\n",
    "- Think about why this is useful before starting your analysis."
   ]
  },
  {
   "cell_type": "code",
   "execution_count": null,
   "metadata": {},
   "outputs": [],
   "source": [
    "# your code here"
   ]
  },
  {
   "cell_type": "markdown",
   "metadata": {},
   "source": [
    "Store the result in a variable or use it directly to print out the number of rows and columns in a complete sentence."
   ]
  },
  {
   "cell_type": "code",
   "execution_count": null,
   "metadata": {},
   "outputs": [],
   "source": [
    "# your code here"
   ]
  },
  {
   "cell_type": "markdown",
   "metadata": {},
   "source": [
    "Why Is This Important?\n",
    "- Knowing the number of rows helps you understand how much data you're working with.\n",
    "- Knowing the number of columns tells you how many features or variables are in the dataset.\n",
    "- This information is essential when planning how to clean or analyze the data."
   ]
  },
  {
   "cell_type": "markdown",
   "metadata": {},
   "source": [
    "#### **Instructions: Understanding the Structure of Your DataFrame**\n",
    "Before diving into analysis, it's crucial to understand the overall structure of your dataset. There's a method in Pandas that gives you a detailed summary of your DataFrame, including:\n",
    "\n",
    "- Column names\n",
    "- Data types\n",
    "- Non-null value counts"
   ]
  },
  {
   "cell_type": "markdown",
   "metadata": {},
   "source": [
    "What to Do:\n",
    "Write a line of code that provides a summary of the DataFrame.\n",
    "\n",
    "- This will output a detailed report about the columns and their properties.\n",
    "- Pay close attention to which columns have missing values and the types of data stored in each column.\n",
    "\n",
    "Read through the output and note:\n",
    "- How many non-null values are in each column.\n",
    "- Whether the data types (e.g., integers, floats, objects) make sense for the column content.\n",
    "- *hint* we are looking for `info` of the dataframe"
   ]
  },
  {
   "cell_type": "code",
   "execution_count": null,
   "metadata": {},
   "outputs": [],
   "source": [
    "# your code here"
   ]
  },
  {
   "cell_type": "markdown",
   "metadata": {},
   "source": [
    "Why Is This Important?\n",
    "- Helps identify columns with missing data, which need to be addressed before analysis.\n",
    "- Ensures that the data types are correct, especially for numeric or categorical analysis.\n",
    "- Gives a quick overview of the structure and size of the dataset."
   ]
  },
  {
   "cell_type": "markdown",
   "metadata": {},
   "source": [
    "---"
   ]
  },
  {
   "cell_type": "markdown",
   "metadata": {},
   "source": [
    "#### **Instructions: Handling Missing Data**\n",
    "Missing data is a common issue in datasets, and identifying where it exists is an important step in data cleaning. Use the methods below to detect and locate missing values in the kick_starter DataFrame."
   ]
  },
  {
   "cell_type": "markdown",
   "metadata": {},
   "source": [
    "What to Do:\n",
    "Check if there are any missing values in the dataset.\n",
    "\n",
    "- Hint: You can use `.isnull()` to check for missing values. Combine it with `.any()`(x2) to check if any column contains missing values.\n",
    "- Write a line of code that returns `True` if any column has missing data and `False` if none exist.\n",
    "- Goal: This gives you a high-level answer to whether the dataset has missing data or not."
   ]
  },
  {
   "cell_type": "code",
   "execution_count": null,
   "metadata": {},
   "outputs": [],
   "source": [
    "# your code here"
   ]
  },
  {
   "cell_type": "markdown",
   "metadata": {},
   "source": [
    "Count the missing values in each column.\n",
    "\n",
    "- Hint: Use `.isnull()` combined with `.sum()` to count the total number of missing values in each column.\n",
    "- Write a line of code that shows the number of missing values per column.\n",
    "- Goal: This helps you pinpoint which columns need cleaning."
   ]
  },
  {
   "cell_type": "code",
   "execution_count": null,
   "metadata": {},
   "outputs": [],
   "source": [
    "# your code here"
   ]
  },
  {
   "cell_type": "markdown",
   "metadata": {},
   "source": [
    "Locate rows with missing values.\n",
    "\n",
    "Hint: Use `.isnull()` along with `.any(axis=1)` to find all rows that have at least one missing value.\n",
    "Write a line of code to display all rows that contain at least one missing value.\n",
    "Goal: This allows you to see the context of the missing data and decide how to handle it (e.g., remove or impute)."
   ]
  },
  {
   "cell_type": "code",
   "execution_count": null,
   "metadata": {},
   "outputs": [],
   "source": [
    "# your code here"
   ]
  },
  {
   "cell_type": "markdown",
   "metadata": {},
   "source": [
    "Why Is This Important?\n",
    "- Detecting Missing Values: Helps ensure you're aware of gaps in the data before proceeding with your analysis.\n",
    "- Counting Missing Values: Allows you to assess the severity of missing data in each column.\n",
    "- Locating Missing Rows: Gives insight into where the missing data is located, which is crucial for deciding how to handle it."
   ]
  },
  {
   "cell_type": "markdown",
   "metadata": {},
   "source": [
    "---"
   ]
  },
  {
   "cell_type": "markdown",
   "metadata": {},
   "source": [
    "What to Do:\n",
    "\n",
    "Display the column names directly.\n",
    "\n",
    "- Hint: You can use .columns to get a list of all column names. This will show you the names without any extra formatting.\n",
    "- Write a line of code to display the column names in your DataFrame."
   ]
  },
  {
   "cell_type": "code",
   "execution_count": null,
   "metadata": {},
   "outputs": [],
   "source": [
    "# your code here"
   ]
  },
  {
   "cell_type": "markdown",
   "metadata": {},
   "source": [
    "Convert the column names to a list.\n",
    "\n",
    "- Hint: Use `list()` to convert the column names into a Python list format. This can be useful if you want to manipulate or reference the column names more easily.\n",
    "- Write a line of code to display the column names as a list."
   ]
  },
  {
   "cell_type": "code",
   "execution_count": null,
   "metadata": {},
   "outputs": [],
   "source": [
    "# your code here"
   ]
  },
  {
   "cell_type": "markdown",
   "metadata": {},
   "source": [
    "Why Is This Important?\n",
    "- Displaying Column Names: Helps you quickly understand the structure of your dataset and familiarize yourself with the data you're working with.\n",
    "- Converting to List: Useful for referencing or iterating through column names when you need to manipulate them or check for specific columns programmatically."
   ]
  },
  {
   "cell_type": "markdown",
   "metadata": {},
   "source": [
    "---"
   ]
  },
  {
   "cell_type": "markdown",
   "metadata": {},
   "source": [
    "Instructions: Analyzing the Value Counts of a Specific Column\n",
    "- To gain insights into the distribution of data in a specific column, we can use a method that counts how many times each unique value appears in that column. Let's focus on the `state` column in the `kick_starter` DataFrame."
   ]
  },
  {
   "cell_type": "markdown",
   "metadata": {},
   "source": [
    "What to Do:\n",
    "\n",
    "Get the value counts of the state column.\n",
    "\n",
    "- Hint: Use `.value_counts()` on the `state` column to count how many times each unique value appears. This will give you an overview of how many projects are in each state.\n",
    "- Write a line of code to output the counts of each unique value in the state column."
   ]
  },
  {
   "cell_type": "code",
   "execution_count": null,
   "metadata": {},
   "outputs": [],
   "source": [
    "# your code here"
   ]
  },
  {
   "cell_type": "markdown",
   "metadata": {},
   "source": [
    "Why Is This Important?\n",
    "\n",
    "- Understanding Data Distribution: This method helps you understand how the data is distributed within a particular column, which can be useful for identifying trends or patterns (e.g., which states have the most successful projects or which project states are most common).\n",
    "- Quick Summary: Provides a quick summary of the unique values and their frequencies, which is helpful for exploratory data analysis."
   ]
  },
  {
   "cell_type": "markdown",
   "metadata": {},
   "source": [
    "#### **Instructions: Getting a Summary of Your Data**\n",
    "To better understand the numerical characteristics of your dataset, you can use a method that provides a statistical summary of the numeric columns. This includes measures like the mean, median, minimum, and maximum values, as well as the spread (standard deviation) of the data."
   ]
  },
  {
   "cell_type": "markdown",
   "metadata": {},
   "source": [
    "What to Do:\n",
    "Generate a summary of the numeric columns.\n",
    "\n",
    "- Hint: Use `.describe()` to generate a summary of the numeric columns in your dataset. This will give you statistics like the mean, standard deviation, and percentiles for each numeric column.\n",
    "- Write a line of code to generate and display this summary."
   ]
  },
  {
   "cell_type": "markdown",
   "metadata": {},
   "source": [
    "toggle on and off this line of code:\n",
    "`pd.set_option('display.float_format', '{:.2f}'.format)`\n",
    "\n",
    "Pros:\n",
    "\n",
    "- This line of code ensures that all floating-point numbers in a DataFrame are displayed with exactly two decimal places, improving readability and presentation.\n",
    "- It can make your output cleaner, especially when dealing with financial or scientific data, where precise formatting is required.\n",
    "\n",
    "Cons:\n",
    "\n",
    "- It affects the global display setting for all float values, which might not be ideal if different columns need different levels of precision.\n",
    "- If the dataset contains very large or very small floating-point numbers, this setting might lead to loss of precision when displaying values, as it rounds to two decimal places.\n",
    "\n",
    "Typically we wont use this but it makes this more readable here. "
   ]
  },
  {
   "cell_type": "code",
   "execution_count": null,
   "metadata": {},
   "outputs": [],
   "source": [
    "# pd.set_option('display.float_format', '{:.2f}'.format)\n",
    "\n",
    "\n",
    "#code here"
   ]
  },
  {
   "cell_type": "markdown",
   "metadata": {},
   "source": [
    "Why Is This Important?\n",
    "- Understand Data Distribution: This method helps you understand the central tendency and spread of your numeric data, such as the average, minimum, and maximum values.\n",
    "- Identifying Outliers: The summary can help you spot potential outliers, especially by looking at the difference between the 75th percentile and the maximum values.\n",
    "- Quick Summary: Provides a quick and useful overview of the numeric columns in your dataset, which is essential for understanding how each feature behaves."
   ]
  },
  {
   "cell_type": "code",
   "execution_count": null,
   "metadata": {},
   "outputs": [],
   "source": [
    "kick_starter['main_category'].value_counts().plot(kind='bar', rot=90)"
   ]
  }
 ],
 "metadata": {
  "kernelspec": {
   "display_name": "Python 3",
   "language": "python",
   "name": "python3"
  },
  "language_info": {
   "codemirror_mode": {
    "name": "ipython",
    "version": 3
   },
   "file_extension": ".py",
   "mimetype": "text/x-python",
   "name": "python",
   "nbconvert_exporter": "python",
   "pygments_lexer": "ipython3",
   "version": "3.13.0"
  }
 },
 "nbformat": 4,
 "nbformat_minor": 2
}
